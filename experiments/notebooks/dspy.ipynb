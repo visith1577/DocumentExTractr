{
 "cells": [
  {
   "cell_type": "code",
   "execution_count": 1,
   "id": "6f8aa8b2",
   "metadata": {},
   "outputs": [],
   "source": [
    "import dspy"
   ]
  },
  {
   "cell_type": "code",
   "execution_count": 2,
   "id": "a9bc3842",
   "metadata": {},
   "outputs": [],
   "source": [
    "from typing import Literal"
   ]
  },
  {
   "cell_type": "code",
   "execution_count": 3,
   "id": "76591616",
   "metadata": {},
   "outputs": [],
   "source": [
    "class ResumeExtraction(dspy.Signature):\n",
    "    \"\"\"\n",
    "    Extract the relevant information from text of resume through ocr.\n",
    "    Output provide the relevant categories if available from the text.\n",
    "    \"\"\"\n",
    "    resume_text: str = dspy.InputField()\n",
    "\n",
    "    # output\n",
    "    name: str = dspy.OutputField(desc=\"who's resume is it?\")\n",
    "    emails: str = dspy.OutputField(desc=\"personal email\")\n",
    "    phones: list[str] = dspy.OutputField(desc=\"personal phone number\")\n",
    "    addresses: list[str] = dspy.OutputField(desc=\"personal address\")\n",
    "    websites: list[str] = dspy.OutputField(desc=\"related websites\")\n",
    "    social_profiles: dict[str, str] = dspy.OutputField(desc=\"social media name as key : profile link as value.\")\n",
    "\n",
    "    skills_categorized: dict[str, list[str]] = dspy.OutputField(desc=\"set of skills extracted from resume and categorised.\") \n",
    "    experience_insights: list[dict[str, str]] = dspy.OutputField(desc=\"list of experiences from each institution/organisation/project\")\n",
    "    achievement_metrics: list[dict[str, str]] =  dspy.OutputField(desc=\"metric infomation from achievements.\")\n",
    "    career_progression: dict[str, str] =  dspy.OutputField(desc=\"career progress timeline/ duration per position.\")\n",
    "    personality_traits: list[str] =  dspy.OutputField(desc=\"personality traits observed or mentioned.\") "
   ]
  },
  {
   "cell_type": "code",
   "execution_count": 4,
   "id": "d037e945",
   "metadata": {},
   "outputs": [],
   "source": [
    "lm = dspy.LM(\"ollama_chat/qwen3:4b\", api_base='http://localhost:11434', api_key='')"
   ]
  },
  {
   "cell_type": "code",
   "execution_count": 5,
   "id": "ddbde76c",
   "metadata": {},
   "outputs": [],
   "source": [
    "dspy.configure(lm=lm)"
   ]
  },
  {
   "cell_type": "code",
   "execution_count": 6,
   "id": "20b19cf7",
   "metadata": {},
   "outputs": [],
   "source": [
    "module = dspy.Predict(ResumeExtraction)"
   ]
  },
  {
   "cell_type": "code",
   "execution_count": 7,
   "id": "3ed5db7b",
   "metadata": {},
   "outputs": [],
   "source": [
    "email = \"../output-structured/email_1.md\"\n",
    "resume = \"../output-structured/resume_1.md\"\n",
    "scipub = \"../output-structured/scipub_1.md\""
   ]
  },
  {
   "cell_type": "code",
   "execution_count": 8,
   "id": "665f61f4",
   "metadata": {},
   "outputs": [],
   "source": [
    "with open(resume, \"r\", encoding=\"utf-8\") as f:\n",
    "    file_text = f.read()"
   ]
  },
  {
   "cell_type": "code",
   "execution_count": 9,
   "id": "71777661",
   "metadata": {},
   "outputs": [],
   "source": [
    "text = file_text"
   ]
  },
  {
   "cell_type": "code",
   "execution_count": 10,
   "id": "a9ed5dda",
   "metadata": {},
   "outputs": [],
   "source": [
    "response = module(resume_text=text)"
   ]
  },
  {
   "cell_type": "code",
   "execution_count": 11,
   "id": "911c5557",
   "metadata": {},
   "outputs": [
    {
     "data": {
      "text/plain": [
       "Prediction(\n",
       "    name='Mingming Hao',\n",
       "    emails='[]',\n",
       "    phones=[],\n",
       "    addresses=['Jinan, PRC', 'Houston, TX'],\n",
       "    websites=[],\n",
       "    social_profiles={},\n",
       "    skills_categorized={'Medicine': ['Medicine'], 'Cytogenetics': ['Cytogenetics'], 'Molecular Genetics': ['Molecular Genetics']},\n",
       "    experience_insights=[{'institution': 'Shandong Medical University', 'position': 'Undergraduate research with Dr. Yishou Guo', 'location': 'Jinan, PRC'}, {'institution': 'University of Texas M.D. Anderson Cancer Center', 'position': 'Graduate research with Dr. Michele Sawadogo', 'location': 'Houston, TX'}],\n",
       "    achievement_metrics=[{'publication': 'Repeat mole among three sisters from & family', 'year': '1988'}, {'publication': 'A simple method for premetaphase chromosome preparations', 'year': '1989'}, {'publication': 'High-resolution G-banding chromosome analysis of 32 mentally retarded children', 'year': 'In press'}],\n",
       "    career_progression={'1986-89': 'Undergraduate research with Dr. Yishou Guo', '1990-pres': 'Graduate research with Dr. Michele Sawadogo'},\n",
       "    personality_traits=[]\n",
       ")"
      ]
     },
     "execution_count": 11,
     "metadata": {},
     "output_type": "execute_result"
    }
   ],
   "source": [
    "response"
   ]
  },
  {
   "cell_type": "code",
   "execution_count": 12,
   "id": "0e21b49e",
   "metadata": {},
   "outputs": [],
   "source": [
    "from datetime import datetime"
   ]
  },
  {
   "cell_type": "code",
   "execution_count": 13,
   "id": "d3ae8e5b",
   "metadata": {},
   "outputs": [],
   "source": [
    "class EmailExtraction(dspy.Signature):\n",
    "    \"\"\"Enhanced email data needs to be extracted from the email text exctracted via ocr\"\"\"\n",
    "    email_text: str = dspy.InputField(desc=\"Input data\")\n",
    "\n",
    "    # output\n",
    "    email_from: str = dspy.OutputField(desc=\"sender email\")\n",
    "    email_to: list[str] = dspy.OutputField(desc=\"receipient emails\")\n",
    "    cc: list[str] = dspy.OutputField(desc=\"receipient emails carbon copy\")\n",
    "    bcc: list[str] = dspy.OutputField(desc=\"receipient emails blind carbon copy\")\n",
    "    subject: str = dspy.OutputField(desc=\"email subject\")\n",
    "    date: datetime = dspy.OutputField(desc=\"email sent date\")\n",
    "    body: str = dspy.OutputField(desc=\"email body\")\n",
    "    attachments: list[str] = dspy.OutputField(desc=\"mentioned attachements\")\n",
    "\n",
    "    emotional_tone: dict[str, float] = dspy.OutputField(desc=\"professional, friendly ... etc.\")\n",
    "    intent_hierarchy: list[dict[str, str]] = dspy.OutputField(desc=\"primary, secondary and optional intents.\")  \n",
    "    action_items: list[str] = dspy.OutputField()\n",
    "    stakeholders: list[dict[str, str]] = dspy.OutputField()\n",
    "    follow_up_required: bool = dspy.OutputField()\n",
    "    priority_level: Literal['low', 'medium', 'high'] = dspy.OutputField()\n",
    "    relationship_context: str = dspy.OutputField(desc=\"what is the email related to ?\")"
   ]
  },
  {
   "cell_type": "code",
   "execution_count": 14,
   "id": "6ef31a6b",
   "metadata": {},
   "outputs": [],
   "source": [
    "with open(email, \"r\", encoding=\"utf-8\") as f:\n",
    "    file_text = f.read()"
   ]
  },
  {
   "cell_type": "code",
   "execution_count": 18,
   "id": "f0975607",
   "metadata": {},
   "outputs": [],
   "source": [
    "email_module = dspy.Predict(EmailExtraction)"
   ]
  },
  {
   "cell_type": "code",
   "execution_count": 19,
   "id": "34ebc6c0",
   "metadata": {},
   "outputs": [],
   "source": [
    "response = email_module(email_text=file_text)"
   ]
  },
  {
   "cell_type": "code",
   "execution_count": 20,
   "id": "3b3774ba",
   "metadata": {},
   "outputs": [
    {
     "data": {
      "text/plain": [
       "Prediction(\n",
       "    email_from='John.Hoel@PMMC.com',\n",
       "    email_to=['Kim Tucker/OAG@OAG'],\n",
       "    cc=[],\n",
       "    bcc=[],\n",
       "    subject=\"RE: Today's Roll Call\",\n",
       "    date=datetime.datetime(2001, 1, 4, 21, 41, 27),\n",
       "    body='ImfreengsfinFloriontioructl Foolery.',\n",
       "    attachments=[],\n",
       "    emotional_tone={'professional': 0.5, 'friendly': 0.5, 'urgent': 0.5, 'neutral': 0.5},\n",
       "    intent_hierarchy=[{'intent': 'confirm attendance', 'confidence': 'high'}, {'intent': 'request follow-up', 'confidence': 'medium'}],\n",
       "    action_items=[],\n",
       "    stakeholders=[{'name': 'Kim Tucker', 'role': 'recipient'}],\n",
       "    follow_up_required=False,\n",
       "    priority_level='high',\n",
       "    relationship_context='Roll call meeting attendance confirmation'\n",
       ")"
      ]
     },
     "execution_count": 20,
     "metadata": {},
     "output_type": "execute_result"
    }
   ],
   "source": [
    "response"
   ]
  },
  {
   "cell_type": "code",
   "execution_count": 21,
   "id": "9419e6bd",
   "metadata": {},
   "outputs": [],
   "source": [
    "class ScientificPaperExtractaction(dspy.Signature):\n",
    "    \"\"\"Extract scientific paper data with LLM insights from the ocr extracted scientific publication data.\"\"\"\n",
    "    scipub_text: str = dspy.InputField()\n",
    "\n",
    "    # output\n",
    "    title: str = dspy.OutputField(desc=\"title or best description of the scientific publication.\")\n",
    "    authors: list[str] = dspy.OutputField()\n",
    "    affiliations: list[str] = dspy.OutputField()\n",
    "    abstract: str = dspy.OutputField(desc=\"abstract of the paper\")\n",
    "    keywords: list[str] = dspy.OutputField(desc=\"most impactful words/tokens in the paper.\")\n",
    "    sections: dict[str, str] = dspy.OutputField(desc=\"breakdown of the sections in the paper.\")\n",
    "    citations: list[str] = dspy.OutputField()\n",
    "    references: list[str] = dspy.OutputField()\n",
    "    figures_tables: list[str] = dspy.OutputField()\n",
    "    doi: str = dspy.OutputField()\n",
    "    journal: str = dspy.OutputField()\n",
    "    publication_date: datetime = dspy.OutputField()\n",
    "\n",
    "    research_contribution: dict[str, str] = dspy.OutputField(desc=\"who and what was contributed. provide the who as key and what as value.\")\n",
    "    methodology_type: str = dspy.OutputField()\n",
    "    research_gaps_identified: list[str] = dspy.OutputField()\n",
    "    future_work_suggestions: list[str] = dspy.OutputField()"
   ]
  },
  {
   "cell_type": "code",
   "execution_count": 22,
   "id": "bc7b2b17",
   "metadata": {},
   "outputs": [],
   "source": [
    "scipub_module = dspy.Predict(ScientificPaperExtractaction)"
   ]
  },
  {
   "cell_type": "code",
   "execution_count": 23,
   "id": "4bbbf626",
   "metadata": {},
   "outputs": [],
   "source": [
    "with open(scipub, \"r\", encoding=\"utf-8\") as f:\n",
    "    file_text = f.read()"
   ]
  },
  {
   "cell_type": "code",
   "execution_count": 24,
   "id": "d450161e",
   "metadata": {},
   "outputs": [],
   "source": [
    "response = scipub_module(scipub_text=file_text)"
   ]
  },
  {
   "cell_type": "code",
   "execution_count": 25,
   "id": "61aa825c",
   "metadata": {},
   "outputs": [],
   "source": [
    "# import dspy\n",
    "\n",
    "# # 1. Configure LMs\n",
    "# ollama_lm = dspy.LM('ollama_chat/llama3.2', api_base='http://localhost:11434', api_key='')\n",
    "# gpt4o = dspy.LM('openai/gpt-4o', api_key='YOUR_OPENAI_API_KEY')\n",
    "# dspy.configure(lm=ollama_lm)\n",
    "\n",
    "# # 2. Define your DSPy program\n",
    "# module = dspy.ChainOfThought(\"question -> answer\")\n",
    "\n",
    "# # 3. Prepare your data (replace with your actual data)\n",
    "# trainset = [...]  # List of dspy.Example objects\n",
    "# devset = [...]    # List of dspy.Example objects\n",
    "\n",
    "# # 4. Set up the optimizer with teacher\n",
    "# optimizer = dspy.MIPROv2(\n",
    "#     metric=lambda x, y, trace=None: x.answer == y.answer,\n",
    "#     prompt_model=ollama_lm,\n",
    "#     teacher_settings=dict(lm=gpt4o),\n",
    "#     auto=\"medium\",\n",
    "#     num_threads=4\n",
    "# )\n",
    "\n",
    "# # 5. Run optimization\n",
    "# optimized_module = optimizer.compile(\n",
    "#     module,\n",
    "#     trainset=trainset,\n",
    "#     max_bootstrapped_demos=4,\n",
    "#     max_labeled_demos=4,\n",
    "#     requires_permission_to_run=False\n",
    "# )"
   ]
  },
  {
   "cell_type": "code",
   "execution_count": 26,
   "id": "f8aa935f",
   "metadata": {},
   "outputs": [
    {
     "data": {
      "text/plain": [
       "Prediction(\n",
       "    title='Post-radiolabelling for detecting DNA damage',\n",
       "    authors=['WilliamP.Watson'],\n",
       "    affiliations=['ShellRcitdRecr ME9 8AG.UK'],\n",
       "    abstract='The biochemical and molecular basis of cancer continues to be an expanding area of research, driven by concerns about chemical exposure risks. This paper discusses methods for detecting DNA damage, emphasizing covalent binding of carcinogens to DNA as a critical initiating event in carcinogenesis. It reviews techniques like radiolabelled carcinogen administration, DNA adduct analysis via post-labelling, and the limitations of current methods in human studies, highlighting the need for alternative approaches to assess DNA damage and cancer risks.',\n",
       "    keywords=['DNA damage', 'carcinogens', 'covalent binding', 'post-radiolabelling', 'DNA adducts', 'mutagenesis', 'cancer risk assessment'],\n",
       "    sections={'Introduction': 'The biochemical and molecular basis of cancer continues to be an expanding area of research. Much of the driving force behind this important multi-disciplinary area is due to concerns about increasing human health risks caused by exposure to toxic chemicals of both industrial and natural origin. ... Studies on the binding of chemicals to DNA and the mechanisms of formation of DNA adducts are therefore important in the identification of potential carcinogens.', 'Post-labelling analysis of DNA': \"Several years ago, Randerath and his co-workers reported a new 3P-post-labelling method for the analysis of carcinogen-DNA adducts. The procedure is essentially a development of Randerath's methodology for base composition and sequence analysis of nucleic acids. ... The deoxyribonucleoside 3-monophosphates are then converted to corresponding 5'-O-35-bisphosphate by enzymic derivatization involving P-32 phosphatetransfer from [P-32]ATP using T4 polynucleotide kinase.\"},\n",
       "    citations=['Barrows and Shank,1981', 'Lutz,1979,1982', 'Randerath et al.,1981,1984a,1985a', 'Gupta et al.,1982', 'Haseltine et al.,1983'],\n",
       "    references=['Barrows and Shank,1981', 'Lutz,1979,1982', 'Randerath et al.,1981,1984a,1985a', 'Gupta et al.,1982', 'Haseltine et al.,1983'],\n",
       "    figures_tables=['figuretesireisfollwAila', 'multidimensional thin-layer chromatography', 'high-performance liquid chromatography'],\n",
       "    doi='\"10.1016/0166-1170(87)90023-2\"  # inferred DOI based on journal and year',\n",
       "    journal='\"Mutagenesis\"',\n",
       "    publication_date=datetime.datetime(1987, 5, 1, 0, 0),\n",
       "    research_contribution={'WilliamP.Watson': 'Developed the post-labelling method for detecting DNA adducts and advanced techniques for analyzing carcinogen-DNA interactions.'},\n",
       "    methodology_type='\"Post-labelling analysis of DNA adducts using radiolabelled carcinogens and enzymatic derivatization\"',\n",
       "    research_gaps_identified=['Limitations in studying human DNA damage with current radiolabelling methods', 'Need for alternative techniques to assess DNA adducts in vivo', 'Inadequate understanding of adduct stability and digestion efficiency'],\n",
       "    future_work_suggestions=['Developing more stable DNA adduct detection methods for human studies', 'Expanding post-radiolabelling techniques to include non-radiolabelled compounds', 'Improving enzymatic digestion protocols to enhance adduct analysis accuracy']\n",
       ")"
      ]
     },
     "execution_count": 26,
     "metadata": {},
     "output_type": "execute_result"
    }
   ],
   "source": [
    "response"
   ]
  },
  {
   "cell_type": "code",
   "execution_count": 27,
   "id": "8fe685c7",
   "metadata": {},
   "outputs": [],
   "source": [
    "class Extractor:\n",
    "    def __init__(self):\n",
    "        self.resume_extractor: dspy.Predict = dspy.Predict(ResumeExtraction)\n",
    "        self.email_extractor: dspy.Predict = dspy.Predict(EmailExtraction)\n",
    "        self.scipub_extractor: dspy.Predict = dspy.Predict(ScientificPaperExtractaction)\n",
    "\n",
    "    def get_extraction(self, doc_type: str, doc_text: str):  # pyright: ignore[reportUnknownParameterType]\n",
    "        match doc_type:\n",
    "            case \"resume\":\n",
    "                ex = self.resume_extractor(resume_text=doc_text)  # pyright: ignore[reportUnknownVariableType]\n",
    "                return ex  # pyright: ignore[reportUnknownVariableType]\n",
    "            case \"scientific_publication\":\n",
    "                ex = self.scipub_extractor(scipub_text=doc_text)  # pyright: ignore[reportUnknownVariableType]\n",
    "                return ex  # pyright: ignore[reportUnknownVariableType]\n",
    "            case \"email\":\n",
    "                ex = self.email_extractor(email_text=doc_text)  # pyright: ignore[reportUnknownVariableType]\n",
    "                return ex  # pyright: ignore[reportUnknownVariableType]\n",
    "            case _:\n",
    "                return \"Unknown document type.\""
   ]
  },
  {
   "cell_type": "code",
   "execution_count": 28,
   "id": "fadf97cc",
   "metadata": {},
   "outputs": [],
   "source": [
    "extractor = Extractor()"
   ]
  },
  {
   "cell_type": "code",
   "execution_count": 34,
   "id": "cd628669",
   "metadata": {},
   "outputs": [],
   "source": [
    "resp = extractor.get_extraction(doc_type=\"scientific_publication\", doc_text=file_text)"
   ]
  },
  {
   "cell_type": "code",
   "execution_count": 35,
   "id": "7ccbc637",
   "metadata": {},
   "outputs": [
    {
     "data": {
      "text/plain": [
       "{'title': 'Post-radiolabelling for detecting DNA damage',\n",
       " 'authors': ['WilliamP.Watson'],\n",
       " 'affiliations': ['ShellRcitdRecr ME9 8AG.UK'],\n",
       " 'abstract': 'The biochemical and molecular basis of cancer continues to be an expanding area of research, driven by concerns about chemical exposure risks. This paper discusses methods for detecting DNA damage, emphasizing covalent binding of carcinogens to DNA as a critical initiating event in carcinogenesis. It reviews techniques like radiolabelled carcinogen administration, DNA adduct analysis via post-labelling, and the limitations of current methods in human studies, highlighting the need for alternative approaches to assess DNA damage and cancer risks.',\n",
       " 'keywords': ['DNA damage',\n",
       "  'carcinogens',\n",
       "  'covalent binding',\n",
       "  'post-radiolabelling',\n",
       "  'DNA adducts',\n",
       "  'mutagenesis',\n",
       "  'cancer risk assessment'],\n",
       " 'sections': {'Introduction': 'The biochemical and molecular basis of cancer continues to be an expanding area of research. Much of the driving force behind this important multi-disciplinary area is due to concerns about increasing human health risks caused by exposure to toxic chemicals of both industrial and natural origin. ... Studies on the binding of chemicals to DNA and the mechanisms of formation of DNA adducts are therefore important in the identification of potential carcinogens.',\n",
       "  'Post-labelling analysis of DNA': \"Several years ago, Randerath and his co-workers reported a new 3P-post-labelling method for the analysis of carcinogen-DNA adducts. The procedure is essentially a development of Randerath's methodology for base composition and sequence analysis of nucleic acids. ... The deoxyribonucleoside 3-monophosphates are then converted to corresponding 5'-O-35-bisphosphate by enzymic derivatization involving P-32 phosphatetransfer from [P-32]ATP using T4 polynucleotide kinase.\"},\n",
       " 'citations': ['Barrows and Shank,1981',\n",
       "  'Lutz,1979,1982',\n",
       "  'Randerath et al.,1981,1984a,1985a',\n",
       "  'Gupta et al.,1982',\n",
       "  'Haseltine et al.,1983'],\n",
       " 'references': ['Barrows and Shank,1981',\n",
       "  'Lutz,1979,1982',\n",
       "  'Randerath et al.,1981,1984a,1985a',\n",
       "  'Gupta et al.,1982',\n",
       "  'Haseltine et al.,1983'],\n",
       " 'figures_tables': ['figuretesireisfollwAila',\n",
       "  'multidimensional thin-layer chromatography',\n",
       "  'high-performance liquid chromatography'],\n",
       " 'doi': '\"10.1016/0166-1170(87)90023-2\"  # inferred DOI based on journal and year',\n",
       " 'journal': '\"Mutagenesis\"',\n",
       " 'publication_date': datetime.datetime(1987, 5, 1, 0, 0),\n",
       " 'research_contribution': {'WilliamP.Watson': 'Developed the post-labelling method for detecting DNA adducts and advanced techniques for analyzing carcinogen-DNA interactions.'},\n",
       " 'methodology_type': '\"Post-labelling analysis of DNA adducts using radiolabelled carcinogens and enzymatic derivatization\"',\n",
       " 'research_gaps_identified': ['Limitations in studying human DNA damage with current radiolabelling methods',\n",
       "  'Need for alternative techniques to assess DNA adducts in vivo',\n",
       "  'Inadequate understanding of adduct stability and digestion efficiency'],\n",
       " 'future_work_suggestions': ['Developing more stable DNA adduct detection methods for human studies',\n",
       "  'Expanding post-radiolabelling techniques to include non-radiolabelled compounds',\n",
       "  'Improving enzymatic digestion protocols to enhance adduct analysis accuracy']}"
      ]
     },
     "execution_count": 35,
     "metadata": {},
     "output_type": "execute_result"
    }
   ],
   "source": [
    "resp.toDict()"
   ]
  },
  {
   "cell_type": "code",
   "execution_count": null,
   "id": "36386006",
   "metadata": {},
   "outputs": [],
   "source": []
  }
 ],
 "metadata": {
  "kernelspec": {
   "display_name": ".venv",
   "language": "python",
   "name": "python3"
  },
  "language_info": {
   "codemirror_mode": {
    "name": "ipython",
    "version": 3
   },
   "file_extension": ".py",
   "mimetype": "text/x-python",
   "name": "python",
   "nbconvert_exporter": "python",
   "pygments_lexer": "ipython3",
   "version": "3.12.7"
  }
 },
 "nbformat": 4,
 "nbformat_minor": 5
}
